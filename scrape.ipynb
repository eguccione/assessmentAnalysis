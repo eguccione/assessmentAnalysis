{
 "metadata": {
  "language_info": {
   "codemirror_mode": {
    "name": "ipython",
    "version": 3
   },
   "file_extension": ".py",
   "mimetype": "text/x-python",
   "name": "python",
   "nbconvert_exporter": "python",
   "pygments_lexer": "ipython3",
   "version": "3.7.3-final"
  },
  "orig_nbformat": 2,
  "kernelspec": {
   "name": "python3",
   "display_name": "Python 3.7.3 64-bit",
   "metadata": {
    "interpreter": {
     "hash": "31f2aee4e71d21fbe5cf8b01ff0e069b9275f58929596ceb00d14d90e3e16cd6"
    }
   }
  }
 },
 "nbformat": 4,
 "nbformat_minor": 2,
 "cells": [
  {
   "source": [
    "Pull in firstpage of reports and find out how many pages there are in total"
   ],
   "cell_type": "markdown",
   "metadata": {}
  },
  {
   "cell_type": "code",
   "execution_count": null,
   "metadata": {},
   "outputs": [],
   "source": [
    "import requests\n",
    "from bs4 import BeautifulSoup\n",
    "URL = 'https://www.gov.uk/service-standard-reports'\n",
    "assessments_pg1 = requests.get(URL)\n",
    "assessments_pg1_content = BeautifulSoup(assessments_pg1.content, 'html.parser')\n",
    "\n",
    "import re\n",
    "pagination_label = assessments_pg1_content.find('span',class_ = 'gem-c-pagination__link-label').text.strip()\n",
    "# do I need to add something if there is just one page? probably never happen?\n",
    "final_page = re.search('.* of (.*)', pagination_label, re.IGNORECASE).group(1)\n"
   ]
  },
  {
   "source": [
    "Get all the individual links for all pages plus some summary information that's provided for some assessments"
   ],
   "cell_type": "markdown",
   "metadata": {}
  },
  {
   "source": [
    "URL = 'https://www.gov.uk/service-standard-reports?page='\n",
    "i = 1\n",
    "service_details = []\n",
    "while i <= int(final_page):\n",
    "  page = requests.get(URL+str(i))\n",
    "  content = BeautifulSoup(page.content, 'html.parser')\n",
    "  results = content.find_all('li', class_='gem-c-document-list__item')\n",
    "  for result in results: \n",
    "          attribute_array = {\"service\":[],'attributes':{\"url\":[],\"assessment_result\":[],\"assessment_stage\":[''],\"assessment_date\":[''],'service_provider':[''],'note':['']}}\n",
    "          title_html = result.find('a', class_='gem-c-document-list__item-title gem-c-document-list__item-link')\n",
    "          title_text = title_html.text.strip()\n",
    "          attribute_array['service'] = title_text\n",
    "          url = result.find('a')['href']\n",
    "          attribute_array['attributes']['url'] = url\n",
    "          attributes = result.find_all('li', class_='gem-c-document-list__attribute')\n",
    "          if attribute_array['attributes']['url'] != \"/service-standard-reports/nhs-111\":\n",
    "            service_details.append(attribute_array)\n",
    "  i += 1"
   ],
   "cell_type": "code",
   "metadata": {
    "tags": []
   },
   "execution_count": null,
   "outputs": []
  },
  {
   "cell_type": "code",
   "execution_count": null,
   "metadata": {},
   "outputs": [],
   "source": [
    "def get_service_attributes(content,service_detail): \n",
    "    table_results = content.find_all('tr')\n",
    "    for row in table_results:\n",
    "        row_text = row.text.strip().replace('\\n', ' ').replace('\\r', '')\n",
    "        if re.search('^Assessment date:.*', row_text, re.IGNORECASE):\n",
    "            assessment_date = re.search('^(Assessment date:)(.*)', row_text, re.IGNORECASE).group(2)\n",
    "            service_detail['attributes']['assessment_date'] = assessment_date\n",
    "        if re.search('^Stage:.*', row_text, re.IGNORECASE):\n",
    "            assessment_stage = re.search('^(Stage:)(.*)', row_text, re.IGNORECASE).group(2)\n",
    "            service_detail['attributes']['assessment_stage'] = assessment_stage\n",
    "        if re.search('^Result:.*', row_text, re.IGNORECASE):\n",
    "            assessment_result = re.search('^(Result:)(.*)', row_text, re.IGNORECASE).group(2)\n",
    "            service_detail['attributes']['assessment_result'] = assessment_result\n",
    "        if re.search('^Service provider:.*', row_text, re.IGNORECASE):\n",
    "            service_provider = ''\n",
    "            service_provider = re.search('^(Service provider:)(.*)', row_text, re.IGNORECASE).group(2)\n",
    "            service_detail['attributes']['service_provider'] = service_provider\n",
    "        else:\n",
    "            service_detail['attributes']['service_provider'] = ''\n",
    "        note = content.find('p',class_='gem-c-lead-paragraph').text.strip()\n",
    "        service_detail['attributes']['note'] = note\n",
    "    return(service_detail)"
   ]
  },
  {
   "cell_type": "code",
   "execution_count": null,
   "metadata": {
    "tags": []
   },
   "outputs": [],
   "source": [
    "from datetime import datetime\n",
    "first_service_results = []\n",
    "for service_detail in service_details:\n",
    "    point=''\n",
    "    result = ''\n",
    "    collect_next_cell = ''\n",
    "    service_result = {\"service_details\":[],'results':[],'html_contet':[]}\n",
    "    extension = service_detail['attributes']['url']\n",
    "    URL = 'https://www.gov.uk' + extension\n",
    "    page = requests.get(URL)\n",
    "    content = BeautifulSoup(page.content, 'html.parser')\n",
    "    service_result['html_content'] = content \n",
    "    results = content.find_all('p')\n",
    "    service_attributes = content.find_all('dd')\n",
    "    for service_attribute in service_attributes:\n",
    "        get_service_attributes(content,service_detail)    \n",
    "# Get results from newest standard format pages\n",
    "# these are reports with no table and the decisions within the text     \n",
    "    service_result['service_details'] = service_detail\n",
    "    for p in results:\n",
    "        p_text = p.text.strip()\n",
    "        if re.search('^The (team|service) (.*) point (.*) of the Standard', p_text, re.IGNORECASE):\n",
    "            result = re.search('The (team|service) (.*) point (.*) of the Standard', p_text, re.IGNORECASE).group(2)\n",
    "            point = re.search('The (team|service) (.*) point (.*) of the Standard', p_text, re.IGNORECASE).group(3)        \n",
    "            service_result['results'].append({'point':point,'result':result})\n",
    "        if re.search('(met|not met) point (.*) of the Standard', p_text, re.IGNORECASE):\n",
    "            result = re.search('(met|not met) point (.*) of the Standard', p_text, re.IGNORECASE).group(1)\n",
    "            point = re.search('(met|not met) point (.*) of the Standard', p_text, re.IGNORECASE).group(2)        \n",
    "            service_result['results'].append({'point':point,'result':result})\n",
    "    first_service_results.append(service_result)"
   ]
  },
  {
   "source": [
    "#Get results from older tables\n",
    "# # where the links in the table are helpfully numbered\n",
    "for service in first_service_results:\n",
    "    if service[\"results\"] == []:\n",
    "        service_result = {\"service_details\":[],'results':[],'html_contet':[]}\n",
    "        for service_detail in service_details:\n",
    "            if service_detail['service'] == service['service_details']['service']:  \n",
    "                content = service['html_content']\n",
    "                get_service_attributes(content,service_detail)\n",
    "                service_result['service_details'] = service_detail\n",
    "                table_results = content.find_all('tr')\n",
    "                service_result['results'] = []\n",
    "                for row in table_results:\n",
    "                    try: href = row.find('a')['href']\n",
    "                    except TypeError:\n",
    "                        href = ''\n",
    "                    if re.search('criterion.*', str(href), re.IGNORECASE):\n",
    "                        for cell in row:\n",
    "                            try: cell_text = cell.text.strip().replace('\\n', ' ').replace('\\r', '')\n",
    "                            except:\n",
    "                                cell_text = ''\n",
    "                            point = ''\n",
    "                            result = ''\n",
    "                            if re.search('\\d{1,2}', cell_text, re.IGNORECASE):\n",
    "                                 point = cell_text\n",
    "                            if re.search('.*met$', cell_text, re.IGNORECASE):\n",
    "                                if re.search('No|Fail|not met', cell_text, re.IGNORECASE):\n",
    "                                    result = 'did not meet'\n",
    "                                elif re.search('Yes|Pass|Met', cell_text, re.IGNORECASE):\n",
    "                                    result = 'met'\n",
    "                            if point != '' and result != '' and re.search('.*met|meet$', result, re.IGNORECASE): \n",
    "                                service_result['results'].append({'point':point,'result':result})\n",
    "                service['results'] = service_result['results']\n",
    "                del service_result\n",
    "                del content\n",
    "\n"
   ],
   "cell_type": "code",
   "metadata": {
    "tags": []
   },
   "execution_count": null,
   "outputs": []
  },
  {
   "cell_type": "code",
   "execution_count": null,
   "metadata": {},
   "outputs": [],
   "source": [
    "for service in first_service_results:\n",
    "    if service[\"results\"] == []:    \n",
    "            service_result = {\"service_details\":[],'results':[],'html_contet':[]}\n",
    "            for service_detail in service_details:\n",
    "                print(service_detail)"
   ]
  },
  {
   "cell_type": "code",
   "execution_count": null,
   "metadata": {},
   "outputs": [],
   "source": [
    "########################################################################################################\n",
    "########################################################################################################\n",
    "########################################################################################################\n",
    "########################################################################################################\n",
    "########################################################################################################\n",
    "########################################################################################################\n",
    "########################################################################################################\n",
    "########################################################################################################\n",
    "# #Get results from even older tables\n",
    "# # where the links in the table are NOT helpfully numbered\n",
    "for service in first_service_results:\n",
    "    if service[\"results\"] == []:\n",
    "        service_result = {\"service_details\":[],'results':[]}\n",
    "        for service_detail in service_details:\n",
    "            if service_detail['service'] == service['service_details']['service']:  \n",
    "                print(service['service_details']['service'])          \n",
    "                content = service['html_content']\n",
    "                get_service_attributes(content,service_detail)\n",
    "                service_result['service_details'] = service_detail\n",
    "                table_results = content.find_all('tr')\n",
    "                service_result['results'] = []\n",
    "                for row in table_results:\n",
    "                    try: href = row.find('a')['href']\n",
    "                    except TypeError:\n",
    "                        href = ''\n",
    "                    if re.search('criterion.*', str(href), re.IGNORECASE):\n",
    "                        for cell in row:\n",
    "                            try: cell_text = cell.text.strip().replace('\\n', ' ').replace('\\r', '')\n",
    "                            except:\n",
    "                                cell_text = ''\n",
    "                            point = ''\n",
    "                            result = ''\n",
    "                            if re.search('\\d{1,2}', cell_text, re.IGNORECASE):\n",
    "                                point = cell_text\n",
    "                            if re.search('.*met$', cell_text, re.IGNORECASE):\n",
    "                                if re.search('No|Fail|not met', cell_text, re.IGNORECASE):\n",
    "                                    result = 'did not meet'\n",
    "                                elif re.search('Yes|Pass|Met', cell_text, re.IGNORECASE):\n",
    "                                    result = 'met'\n",
    "                                    print('point '+point+'result '+result)\n",
    "                            if point != '' or result != '' or re.search('.*met|meet$', result, re.IGNORECASE): \n",
    "                                service_result['results'].append({'point':point,'result':result})\n",
    "                service['results'] = service_result['results']\n",
    "                del service_result\n",
    "                del content"
   ]
  },
  {
   "cell_type": "code",
   "execution_count": null,
   "metadata": {},
   "outputs": [],
   "source": [
    "for service in first_service_results:\n",
    "    print(service)\n",
    "    print(service['results'])"
   ]
  },
  {
   "cell_type": "code",
   "execution_count": null,
   "metadata": {},
   "outputs": [],
   "source": [
    "    point=''\n",
    "    result = ''\n",
    "    collect_next_cell = ''\n",
    "    service_result = {\"service_details\":[],'results':[]}\n",
    "    extension = service_detail['attributes']['url']\n",
    "    URL = 'https://www.gov.uk' +  '/service-standard-reports/electronic-visa-waiver-alpha-assessment'\n",
    "    page = requests.get(URL)\n",
    "    content = BeautifulSoup(page.content, 'html.parser')\n",
    "    results = content.find_all('p')\n",
    "    paragraphs = content.find_all('p')\n",
    "    for paragraph in paragraphs:\n",
    "     text = paragraph.text.replace('\\n', '').replace('\\r', '').strip()\n",
    "     if re.search('^Date of Assessment:.*', text, re.IGNORECASE):\n",
    "            print('assessment_date')\n",
    "            assessment_date = re.search('^(Date of Assessment:)(.*)', text, re.IGNORECASE).group(2)\n",
    "            service_detail['attributes']['assessment_date'] = assessment_date\n",
    "     if re.search('^Assessment stage:.*', text, re.IGNORECASE):\n",
    "            print('assessment_stage')\n",
    "            assessment_stage = re.search('^(Assessment stage:)(.*)', text, re.IGNORECASE).group(2)\n",
    "            service_detail['attributes']['assessment_stage'] = assessment_stage\n",
    "     if re.search('^Result of Assessment:.*', text, re.IGNORECASE):\n",
    "            print('assessment_result')\n",
    "            assessment_result = re.search('^(Result of Assessment:)(.*)', text, re.IGNORECASE).group(2)\n",
    "            service_detail['attributes']['assessment_result'] = assessment_result\n",
    "     if re.search('^Department / Agency:.*', text, re.IGNORECASE):\n",
    "            print('service_provider')            \n",
    "            service_provider = ''\n",
    "            service_provider = re.search('^(Department / Agency:)(.*)', text, re.IGNORECASE).group(2)\n",
    "            service_detail['attributes']['service_provider'] = service_provider\n",
    "    service_result['service_details'] = service_detail\n",
    "    table_results = content.find_all('tr')\n",
    "    for row in table_results:\n",
    "        row_text = row.text.strip().replace('\\n', ' ').replace('\\r', '')\n",
    "        for cell in row:\n",
    "            try: cell_text = cell.text.strip().replace('\\n', ' ').replace('\\r', '')\n",
    "            except:\n",
    "                cell_text = ''\n",
    "            if re.search('^\\d{1,2}$', cell_text, re.IGNORECASE):\n",
    "                point = cell_text\n",
    "                collect_next_cell = True\n",
    "            if collect_next_cell and not re.search('^\\d{1,2}$', cell_text, re.IGNORECASE) and cell_text != '' and re.search('.*Met|.*Yes|.*No|.*Pass|.*Fail$', cell_text, re.IGNORECASE): \n",
    "                collect_next_cell = False\n",
    "                if re.search('No|Fail|not met', cell_text, re.IGNORECASE):\n",
    "                    result = 'did not meet'           \n",
    "                elif re.search('Yes|Pass|Met', cell_text, re.IGNORECASE):\n",
    "                        result = 'met'\n",
    "                else:\n",
    "                    result = cell_text \n",
    "                service_result['results'].append({'point':point,'result':result})\n"
   ]
  },
  {
   "cell_type": "code",
   "execution_count": null,
   "metadata": {},
   "outputs": [],
   "source": [
    "\n",
    "      second_service_results     \n"
   ]
  },
  {
   "cell_type": "code",
   "execution_count": null,
   "metadata": {
    "tags": []
   },
   "outputs": [],
   "source": [
    "import pandas as pd\n",
    "service_result_df = pd.DataFrame()\n",
    "for service_result in service_results:\n",
    "    service_name = service_result['service_details']['service']\n",
    "    service_stage = service_result['service_details']['attributes']['assessment_stage']\n",
    "    assessment_date = service_result['service_details']['attributes']['assessment_date']\n",
    "    service_provider = service_result['service_details']['attributes']['service_provider']\n",
    "    results = service_result['results']\n",
    "    if len(results)>0:\n",
    "        service_result_df_raw = pd.DataFrame.from_dict(results).drop_duplicates(subset=[\"point\"], keep='last').set_index('point')\n",
    "        service_result_df_wide = service_result_df_raw.T\n",
    "        service_result_df_wide['service_name'] = service_name\n",
    "        service_result_df_wide['service_stage'] = service_stage\n",
    "        service_result_df_wide['service_provider'] = service_provider\n",
    "        service_result_df_wide['assessment_date'] = assessment_date\n",
    "        service_result_df_wide.set_index('service_name')\n",
    "        service_result_df = service_result_df.append(service_result_df_wide)\n",
    "        service_result_df.sort_values(by=['assessment_date','service_name','assessment_date'])\n",
    "service_result_df.drop_duplicates()\n",
    "cols = service_result_df.columns.tolist()"
   ]
  },
  {
   "cell_type": "code",
   "execution_count": null,
   "metadata": {},
   "outputs": [],
   "source": [
    "cols = [int(ele) if ele.isdigit() else ele for ele in cols] \n",
    "# comparator function for sort \n",
    "def mixs(num): \n",
    "    try: \n",
    "        ele = int(num) \n",
    "        return (0, ele, '') \n",
    "    except ValueError: \n",
    "        return (1, num, '') \n",
    "\n",
    "cols.sort(key = mixs) \n",
    "cols = cols[-4:] + cols[:-4]\n",
    "cols = [str(i) for i in cols]\n",
    "service_result_df = service_result_df[cols]\n",
    "service_result_df = service_result_df.set_index('service_name')"
   ]
  },
  {
   "cell_type": "code",
   "execution_count": null,
   "metadata": {},
   "outputs": [],
   "source": []
  }
 ]
}