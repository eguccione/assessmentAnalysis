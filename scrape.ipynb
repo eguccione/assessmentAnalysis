{
 "metadata": {
  "language_info": {
   "codemirror_mode": {
    "name": "ipython",
    "version": 3
   },
   "file_extension": ".py",
   "mimetype": "text/x-python",
   "name": "python",
   "nbconvert_exporter": "python",
   "pygments_lexer": "ipython3",
   "version": "3.7.3-final"
  },
  "orig_nbformat": 2,
  "kernelspec": {
   "name": "python3",
   "display_name": "Python 3.7.3 64-bit",
   "metadata": {
    "interpreter": {
     "hash": "31f2aee4e71d21fbe5cf8b01ff0e069b9275f58929596ceb00d14d90e3e16cd6"
    }
   }
  }
 },
 "nbformat": 4,
 "nbformat_minor": 2,
 "cells": [
  {
   "cell_type": "code",
   "execution_count": null,
   "metadata": {},
   "outputs": [],
   "source": [
    "import requests\n",
    "from bs4 import BeautifulSoup\n",
    "URL = 'https://www.gov.uk/service-standard-reports'\n",
    "assessments_pg1 = requests.get(URL)\n",
    "assessments_pg1_content = BeautifulSoup(assessments_pg1.content, 'html.parser')\n"
   ]
  },
  {
   "cell_type": "code",
   "execution_count": null,
   "metadata": {},
   "outputs": [],
   "source": [
    "import re\n",
    "pagination_label = assessments_pg1_content.find('span',class_ = 'gem-c-pagination__link-label').text.strip()\n",
    "# do I need to add something if there is just one page? probably never happen?\n",
    "final_page = re.search('.* of (.*)', pagination_label, re.IGNORECASE).group(1)\n"
   ]
  },
  {
   "source": [
    "URL = 'https://www.gov.uk/service-standard-reports?page='\n",
    "i = 1\n",
    "service_details = []\n",
    "while i <= int(final_page):\n",
    "    page = requests.get(URL+str(i))\n",
    "    content = BeautifulSoup(page.content, 'html.parser')\n",
    "    results = content.find_all('li', class_='gem-c-document-list__item')\n",
    "    for result in results: \n",
    "        attribute_array = {\"service\":[],'attributes':{\"url\":[],\"result\":[],\"stage\":[],\"assessed\":[],'service_provider':[],'note':[]}}\n",
    "        title_html = result.find('a', class_='gem-c-document-list__item-title gem-c-document-list__item-link')\n",
    "        title_text = title_html.text.strip()\n",
    "        attribute_array['service'] = title_text\n",
    "        url = result.find('a')['href']\n",
    "        attribute_array['attributes']['url'] = url\n",
    "        attributes = result.find_all('li', class_='gem-c-document-list__attribute')\n",
    "        for attribute in attributes:\n",
    "            atr_text = attribute.text.strip()\n",
    "            if re.match('Result: (.*)', atr_text) is not None:\n",
    "                attribute = re.search('Result: (.*)', atr_text, re.IGNORECASE).group(1)\n",
    "                attribute_array['attributes']['result'] = attribute \n",
    "            if re.match('Assessed: (.*)', atr_text) is not None:\n",
    "                attribute = re.search('Assessed: (.*)', atr_text, re.IGNORECASE).group(1)\n",
    "                attribute_array['attributes']['assessed'] = attribute\n",
    "            if re.match('Stage: (.*)', atr_text) is not None:\n",
    "                attribute = re.search('Stage: (.*)', atr_text, re.IGNORECASE).group(1)\n",
    "                attribute_array['attributes']['stage'] = attribute\n",
    "        service_details.append(attribute_array)\n",
    "    i += 1"
   ],
   "cell_type": "code",
   "metadata": {
    "tags": []
   },
   "execution_count": null,
   "outputs": []
  },
  {
   "cell_type": "code",
   "execution_count": null,
   "metadata": {
    "tags": []
   },
   "outputs": [],
   "source": [
    "service_results = []\n",
    "for service_detail in service_details:\n",
    "    service_result = {\"service_details\":[],'results':[]}\n",
    "    extension = service_detail['attributes']['url']\n",
    "    URL = 'https://www.gov.uk' + extension\n",
    "    page = requests.get(URL)\n",
    "    print(extension)\n",
    "    content = BeautifulSoup(page.content, 'html.parser')\n",
    "    results = content.find_all('p')\n",
    "    note = content.find('p',class_='gem-c-lead-paragraph').text.strip()\n",
    "    service_detail['attributes']['note'] = note\n",
    "    service_result['service_details'] = service_detail\n",
    "    for p in results:\n",
    "        p_text = p.text.strip()\n",
    "        if re.search('^The service.*of the standard', p_text, re.IGNORECASE):\n",
    "            service_result['results'].append(p_text)\n",
    "        if re.search('^The team.*of the standard', p_text, re.IGNORECASE):\n",
    "            service_result['results'].append(p_text)\n",
    "    service_results.append(service_result)\n",
    "    \n",
    "    if service_result['results'] == []:\n",
    "        table_results = content.find_all('tr')\n",
    "        for row in table_results:\n",
    "            row_text = row.text.strip().replace('\\n', ' ').replace('\\r', '')\n",
    "            if re.search('^Assessment date:.*', row_text, re.IGNORECASE):\n",
    "                date = re.search('^(Assessment date:)(.*)', row_text, re.IGNORECASE).group(2)\n",
    "                service_detail['attributes']['assessed'] = date\n",
    "            if re.search('^Stage:.*', row_text, re.IGNORECASE):\n",
    "                stage = re.search('^(Stage:)(.*)', row_text, re.IGNORECASE).group(2)\n",
    "                service_detail['attributes']['stage'] = stage\n",
    "            if re.search('^Result:.*', row_text, re.IGNORECASE):\n",
    "                result = re.search('^(Result:)(.*)', row_text, re.IGNORECASE).group(2)\n",
    "                service_detail['attributes']['result'] = result\n",
    "            if re.search('^Service provider:.*', row_text, re.IGNORECASE):\n",
    "                print(row_text)\n",
    "                service_provider = ''\n",
    "                service_provider = re.search('^(Service provider:)(.*)', row_text, re.IGNORECASE).group(2)\n",
    "                service_detail['attributes']['service_provider'] = service_provider\n",
    "            try: href = row.find('a')['href']\n",
    "            except TypeError:\n",
    "                href = []\n",
    "            if re.search('criterion.*', str(href), re.IGNORECASE):\n",
    "                for cell in row:\n",
    "                    try: cell_text = cell.text.strip().replace('\\n', ' ').replace('\\r', '')\n",
    "                    except:\n",
    "                        cell_text = ''\n",
    "                    if re.search('\\d{1,2}', cell_text, re.IGNORECASE):\n",
    "                        point = cell_text\n",
    "                    if re.search('.*met$', cell_text, re.IGNORECASE):\n",
    "                        if re.search('Not met', cell_text, re.IGNORECASE):\n",
    "                            result = 'did not meet'           \n",
    "                        else:\n",
    "                            result = 'met'           \n",
    "                        service_result['results'].append('The service '+result+' point '+point+' of the Standard.')\n",
    "        service_results.append(service_result)\n",
    "    if service_result['results'] == []:\n",
    "        table_results = content.find_all('tr')\n",
    "        for row in table_results:\n",
    "            row_text = row.text.strip().replace('\\n', ' ').replace('\\r', '')\n",
    "            for cell in row:\n",
    "                try: cell_text = cell.text.strip().replace('\\n', ' ').replace('\\r', '')\n",
    "                except:\n",
    "                    cell_text = ''\n",
    "                if re.search('\\d{1,2}', cell_text, re.IGNORECASE):\n",
    "                    point = cell_text\n",
    "                if re.search('.*Yes$|.*No$', cell_text, re.IGNORECASE):\n",
    "                    if re.search('Not met', cell_text, re.IGNORECASE):\n",
    "                        result = 'did not meet'           \n",
    "                    else:\n",
    "                        result = 'met'           \n",
    "                    service_result['results'].append('The service '+result+' point '+point+' of the Standard.')\n"
   ]
  }
 ]
}