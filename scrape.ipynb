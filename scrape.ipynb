{
 "metadata": {
  "language_info": {
   "codemirror_mode": {
    "name": "ipython",
    "version": 3
   },
   "file_extension": ".py",
   "mimetype": "text/x-python",
   "name": "python",
   "nbconvert_exporter": "python",
   "pygments_lexer": "ipython3",
   "version": "3.7.3-final"
  },
  "orig_nbformat": 2,
  "kernelspec": {
   "name": "python3",
   "display_name": "Python 3.7.3 64-bit",
   "metadata": {
    "interpreter": {
     "hash": "31f2aee4e71d21fbe5cf8b01ff0e069b9275f58929596ceb00d14d90e3e16cd6"
    }
   }
  }
 },
 "nbformat": 4,
 "nbformat_minor": 2,
 "cells": [
  {
   "cell_type": "code",
   "execution_count": 101,
   "metadata": {},
   "outputs": [],
   "source": [
    "import requests\n",
    "from bs4 import BeautifulSoup\n",
    "URL = 'https://www.gov.uk/service-standard-reports'\n",
    "assessments_pg1 = requests.get(URL)\n",
    "assessments_pg1_content = BeautifulSoup(page.content, 'html.parser')\n"
   ]
  },
  {
   "cell_type": "code",
   "execution_count": 102,
   "metadata": {},
   "outputs": [],
   "source": [
    "import re\n",
    "pagination_label = assessments_pg1_content.find('span',class_ = 'gem-c-pagination__link-label').text.strip()\n",
    "# do I need to add something if there is just one page? probably never happen?\n",
    "final_page = re.search('.* of (.*)', pagination_label, re.IGNORECASE).group(1)\n"
   ]
  },
  {
   "source": [
    "URL = 'https://www.gov.uk/service-standard-reports?page='\n",
    "i = 1\n",
    "service_details = []\n",
    "while i <= int(final_page):\n",
    "    page = requests.get(URL+str(i))\n",
    "    content = BeautifulSoup(page.content, 'html.parser')\n",
    "    results = content.find_all('li', class_='gem-c-document-list__item')\n",
    "    for result in results: \n",
    "        attribute_array = {\"service\":[],'attributes':{\"url\":[],\"result\":[],\"stage\":[],\"assessed\":[]}}\n",
    "        title_html = result.find('a', class_='gem-c-document-list__item-title gem-c-document-list__item-link')\n",
    "        title_text = title_html.text.strip()\n",
    "        attribute_array['service'] = title_text\n",
    "        url = result.find('a')['href']\n",
    "        attribute_array['attributes']['url'] = url\n",
    "        attributes = result.find_all('li', class_='gem-c-document-list__attribute')\n",
    "        for attribute in attributes:\n",
    "            atr_text = attribute.text.strip()\n",
    "            if re.match('Result: (.*)', atr_text) is not None:\n",
    "                attribute = re.search('Result: (.*)', atr_text, re.IGNORECASE).group(1)\n",
    "                attribute_array['attributes']['result'] = attribute \n",
    "            if re.match('Assessed: (.*)', atr_text) is not None:\n",
    "                attribute = re.search('Assessed: (.*)', atr_text, re.IGNORECASE).group(1)\n",
    "                attribute_array['attributes']['assessed'] = attribute\n",
    "            if re.match('Stage: (.*)', atr_text) is not None:\n",
    "                attribute = re.search('Stage: (.*)', atr_text, re.IGNORECASE).group(1)\n",
    "                attribute_array['attributes']['stage'] = attribute\n",
    "        service_details.append(attribute_array)\n",
    "    i += 1"
   ],
   "cell_type": "code",
   "metadata": {
    "tags": []
   },
   "execution_count": 116,
   "outputs": []
  }
 ]
}