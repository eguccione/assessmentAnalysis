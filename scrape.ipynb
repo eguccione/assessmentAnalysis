{
 "metadata": {
  "language_info": {
   "codemirror_mode": {
    "name": "ipython",
    "version": 3
   },
   "file_extension": ".py",
   "mimetype": "text/x-python",
   "name": "python",
   "nbconvert_exporter": "python",
   "pygments_lexer": "ipython3",
   "version": "3.7.3-final"
  },
  "orig_nbformat": 2,
  "kernelspec": {
   "name": "python3",
   "display_name": "Python 3.7.3 64-bit",
   "metadata": {
    "interpreter": {
     "hash": "31f2aee4e71d21fbe5cf8b01ff0e069b9275f58929596ceb00d14d90e3e16cd6"
    }
   }
  }
 },
 "nbformat": 4,
 "nbformat_minor": 2,
 "cells": [
  {
   "source": [
    "Pull in firstpage of reports and find out how many pages there are in total"
   ],
   "cell_type": "markdown",
   "metadata": {}
  },
  {
   "cell_type": "code",
   "execution_count": null,
   "metadata": {},
   "outputs": [],
   "source": [
    "import requests\n",
    "from bs4 import BeautifulSoup\n",
    "URL = 'https://www.gov.uk/service-standard-reports'\n",
    "assessments_pg1 = requests.get(URL)\n",
    "assessments_pg1_content = BeautifulSoup(assessments_pg1.content, 'html.parser')\n",
    "\n",
    "import re\n",
    "pagination_label = assessments_pg1_content.find('span',class_ = 'gem-c-pagination__link-label').text.strip()\n",
    "# do I need to add something if there is just one page? probably never happen?\n",
    "final_page = re.search('.* of (.*)', pagination_label, re.IGNORECASE).group(1)\n"
   ]
  },
  {
   "source": [
    "Get all the individual links for all pages plus some summary information that's provided for some assessments"
   ],
   "cell_type": "markdown",
   "metadata": {}
  },
  {
   "source": [
    "URL = 'https://www.gov.uk/service-standard-reports?page='\n",
    "i = 1\n",
    "service_details = []\n",
    "while i <= int(final_page):\n",
    "    page = requests.get(URL+str(i))\n",
    "    content = BeautifulSoup(page.content, 'html.parser')\n",
    "    results = content.find_all('li', class_='gem-c-document-list__item')\n",
    "    for result in results: \n",
    "            attribute_array = {\"service\":[],'attributes':{\"url\":[],\"result\":[],\"stage\":[''],\"assessed\":[''],'service_provider':[''],'note':['']}}\n",
    "            title_html = result.find('a', class_='gem-c-document-list__item-title gem-c-document-list__item-link')\n",
    "            title_text = title_html.text.strip()\n",
    "            attribute_array['service'] = title_text\n",
    "            url = result.find('a')['href']\n",
    "            attribute_array['attributes']['url'] = url\n",
    "            attributes = result.find_all('li', class_='gem-c-document-list__attribute')\n",
    "            for attribute in attributes:\n",
    "                atr_text = attribute.text.strip()\n",
    "                if re.match('Result: (.*)', atr_text) is not None:\n",
    "                    attribute = re.search('Result: (.*)', atr_text, re.IGNORECASE).group(1)\n",
    "                    attribute_array['attributes']['result'] = attribute \n",
    "                if re.match('Assessed: (.*)', atr_text) is not None:\n",
    "                    attribute = re.search('Assessed: (.*)', atr_text, re.IGNORECASE).group(1)\n",
    "                    attribute_array['attributes']['assessed'] = attribute\n",
    "                if re.match('Stage: (.*)', atr_text) is not None:\n",
    "                    attribute = re.search('Stage: (.*)', atr_text, re.IGNORECASE).group(1)\n",
    "                    attribute_array['attributes']['stage'] = attribute\n",
    "                else:\n",
    "                    attribute_array['attributes']['stage'] = ''\n",
    "\n",
    "            service_details.append(attribute_array)\n",
    "    i += 1"
   ],
   "cell_type": "code",
   "metadata": {
    "tags": []
   },
   "execution_count": null,
   "outputs": []
  },
  {
   "cell_type": "code",
   "execution_count": null,
   "metadata": {
    "tags": []
   },
   "outputs": [],
   "source": [
    "service_results = []\n",
    "for service_detail in service_details:\n",
    "    point=''\n",
    "    result = ''\n",
    "    service_result = {\"service_details\":[],'results':[]}\n",
    "    extension = service_detail['attributes']['url']\n",
    "    URL = 'https://www.gov.uk' + extension\n",
    "    page = requests.get(URL)\n",
    "    content = BeautifulSoup(page.content, 'html.parser')\n",
    "    results = content.find_all('p')\n",
    "    note = content.find('p',class_='gem-c-lead-paragraph').text.strip()\n",
    "    service_detail['attributes']['note'] = note\n",
    "    service_result['service_details'] = service_detail\n",
    "    #Get results from newest standard format pages\n",
    "    # these are reports with no table and the decisions within the text\n",
    "    for p in results:\n",
    "        p_text = p.text.strip()\n",
    "        if re.search('^The (team|service) (.*) point (.*) of the Standard', p_text, re.IGNORECASE):\n",
    "            result = re.search('The (team|service) (.*) point (.*) of the Standard', p_text, re.IGNORECASE).group(2)\n",
    "            point = re.search('The (team|service) (.*) point (.*) of the Standard', p_text, re.IGNORECASE).group(3)        \n",
    "            service_result['results'].append({'point':point,'result':result})\n",
    "        if re.search('(met|not met) point (.*) of the Standard', p_text, re.IGNORECASE):\n",
    "            result = re.search('(met|not met) point (.*) of the Standard', p_text, re.IGNORECASE).group(1)\n",
    "            point = re.search('(met|not met) point (.*) of the Standard', p_text, re.IGNORECASE).group(2)        \n",
    "            service_result['results'].append({'point':point,'result':result})\n",
    "\n",
    "    service_results.append(service_result)\n",
    "    #Get results from older tables\n",
    "    # where the links in the table are helpfully numbered\n",
    "    if service_result['results'] == []:\n",
    "        table_results = content.find_all('tr')\n",
    "        for row in table_results:\n",
    "            row_text = row.text.strip().replace('\\n', ' ').replace('\\r', '')\n",
    "            if re.search('^Assessment date:.*', row_text, re.IGNORECASE):\n",
    "                date = re.search('^(Assessment date:)(.*)', row_text, re.IGNORECASE).group(2)\n",
    "                service_detail['attributes']['assessed'] = date\n",
    "            if re.search('^Stage:.*', row_text, re.IGNORECASE):\n",
    "                stage = re.search('^(Stage:)(.*)', row_text, re.IGNORECASE).group(2)\n",
    "                service_detail['attributes']['stage'] = stage\n",
    "            if re.search('^Result:.*', row_text, re.IGNORECASE):\n",
    "                oervall_result = re.search('^(Result:)(.*)', row_text, re.IGNORECASE).group(2)\n",
    "                service_detail['attributes']['result'] = oervall_result\n",
    "            if re.search('^Service provider:.*', row_text, re.IGNORECASE):\n",
    "                service_provider = ''\n",
    "                service_provider = re.search('^(Service provider:)(.*)', row_text, re.IGNORECASE).group(2)\n",
    "                service_detail['attributes']['service_provider'] = service_provider\n",
    "            else:\n",
    "                service_detail['attributes']['service_provider'] = ''\n",
    "            try: href = row.find('a')['href']\n",
    "            except TypeError:\n",
    "                href = []\n",
    "            if re.search('criterion.*', str(href), re.IGNORECASE):\n",
    "                for cell in row:\n",
    "                    try: cell_text = cell.text.strip().replace('\\n', ' ').replace('\\r', '')\n",
    "                    except:\n",
    "                        cell_text = ''\n",
    "                    if re.search('\\d{1,2}', cell_text, re.IGNORECASE):\n",
    "                        point = cell_text\n",
    "                    if re.search('.*met$', cell_text, re.IGNORECASE):\n",
    "                        if re.search('No|Fail|not met', cell_text, re.IGNORECASE):\n",
    "                            result = 'did not meet'\n",
    "                        elif re.search('Yes|Pass|Met', cell_text, re.IGNORECASE):\n",
    "                                    result = 'met'\n",
    "                        else:\n",
    "                                result = cell_text \n",
    "                             \n",
    "                        service_result['results'].append({'point':point,'result':result})\n",
    "        service_results.append(service_result)\n",
    "#Get results from old crappy tables\n",
    "    if service_result['results'] == []:\n",
    "            table_results = content.find_all('tr')\n",
    "            for row in table_results:\n",
    "                row_text = row.text.strip().replace('\\n', ' ').replace('\\r', '')\n",
    "                for cell in row:\n",
    "                    try: cell_text = cell.text.strip().replace('\\n', ' ').replace('\\r', '')\n",
    "                    except:\n",
    "                        cell_text = ''\n",
    "                    if re.search('^\\d{1,2}$', cell_text, re.IGNORECASE):\n",
    "                        point = cell_text\n",
    "                        collect_next_cell = True\n",
    "                    if collect_next_cell and not re.search('^\\d{1,2}$', cell_text, re.IGNORECASE) and cell_text != '' and re.search('.*Met|.*Yes|.*No|.*Pass|.*Fail$', cell_text, re.IGNORECASE): \n",
    "                        collect_next_cell = False\n",
    "                        if re.search('No|Fail|not met', cell_text, re.IGNORECASE):\n",
    "                            result = 'did not meet'           \n",
    "                        elif re.search('Yes|Pass|Met', cell_text, re.IGNORECASE):\n",
    "                                result = 'met'\n",
    "                        else:\n",
    "                            result = cell_text                   \n",
    "                        service_result['results'].append({'point':point,'result':result})\n",
    "                    "
   ]
  },
  {
   "cell_type": "code",
   "execution_count": null,
   "metadata": {
    "tags": []
   },
   "outputs": [],
   "source": [
    "service_result_df = pd.DataFrame()\n",
    "for service_result in service_results:\n",
    "    service_name = service_result['service_details']['service']\n",
    "    service_stage = service_result['service_details']['attributes']['stage']\n",
    "    assessment_date = service_result['service_details']['attributes']['assessed']\n",
    "    service_provider = service_result['service_details']['attributes']['service_provider']\n",
    "    results = service_result['results']\n",
    "    if len(results)>0:\n",
    "        service_result_df_raw = pd.DataFrame.from_dict(results).drop_duplicates(subset=[\"point\"], keep='last').set_index('point')\n",
    "        service_result_df_wide = service_result_df_raw.T\n",
    "        service_result_df_wide['service_name'] = service_name\n",
    "        service_result_df_wide['service_stage'] = service_stage\n",
    "        service_result_df_wide['service_provider'] = service_provider\n",
    "        service_result_df_wide['assessment_date'] = assessment_date\n",
    "        service_result_df_wide.set_index('service_name')\n",
    "        service_result_df = service_result_df.append(service_result_df_wide)\n",
    "        service_result_df.sort_values(by=['assessment_date','service_name','assessment_date'])\n",
    "service_result_df.drop_duplicates()\n",
    "cols = service_result_df.columns.tolist()"
   ]
  },
  {
   "cell_type": "code",
   "execution_count": null,
   "metadata": {},
   "outputs": [],
   "source": [
    "cols = [int(ele) if ele.isdigit() else ele for ele in cols] \n",
    "# comparator function for sort \n",
    "def mixs(num): \n",
    "    try: \n",
    "        ele = int(num) \n",
    "        return (0, ele, '') \n",
    "    except ValueError: \n",
    "        return (1, num, '') \n",
    "\n",
    "cols.sort(key = mixs) \n",
    "cols = cols[-4:] + cols[:-4]\n",
    "cols = [str(i) for i in cols]\n",
    "service_result_df = service_result_df[cols]\n",
    "service_result_df = service_result_df.set_index('service_name')"
   ]
  }
 ]
}