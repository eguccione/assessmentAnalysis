{
 "metadata": {
  "language_info": {
   "codemirror_mode": {
    "name": "ipython",
    "version": 3
   },
   "file_extension": ".py",
   "mimetype": "text/x-python",
   "name": "python",
   "nbconvert_exporter": "python",
   "pygments_lexer": "ipython3",
   "version": "3.7.3-final"
  },
  "orig_nbformat": 2,
  "kernelspec": {
   "name": "python3",
   "display_name": "Python 3.7.3 64-bit",
   "metadata": {
    "interpreter": {
     "hash": "31f2aee4e71d21fbe5cf8b01ff0e069b9275f58929596ceb00d14d90e3e16cd6"
    }
   }
  }
 },
 "nbformat": 4,
 "nbformat_minor": 2,
 "cells": [
  {
   "cell_type": "code",
   "execution_count": 1,
   "metadata": {},
   "outputs": [],
   "source": [
    "import requests\n",
    "\n",
    "URL = 'https://www.gov.uk/service-standard-reports'\n",
    "page = requests.get(URL)"
   ]
  },
  {
   "cell_type": "code",
   "execution_count": 98,
   "metadata": {},
   "outputs": [],
   "source": [
    "from bs4 import BeautifulSoup\n",
    "URL = 'https://www.gov.uk/service-standard-reports'\n",
    "assessments_pg1 = requests.get(URL)\n",
    "\n",
    "assessments_pg1_content = BeautifulSoup(page.content, 'html.parser')\n"
   ]
  },
  {
   "cell_type": "code",
   "execution_count": 148,
   "metadata": {},
   "outputs": [
    {
     "output_type": "execute_result",
     "data": {
      "text/plain": [
       "int"
      ]
     },
     "metadata": {},
     "execution_count": 148
    }
   ],
   "source": [
    "import re\n",
    "pagination_label = assessments_pg1_content.find('span',class_ = 'gem-c-pagination__link-label').text.strip()\n",
    "# do I need to add something if there is just one page? probably never happen?\n",
    "final_page = re.search('.* of (.*)', pagination_label, re.IGNORECASE).group(1)\n",
    "type(int(final_page))\n"
   ]
  },
  {
   "source": [
    "URL = 'https://www.gov.uk/service-standard-reports?page='\n",
    "i = 0\n",
    "while i <= int(final_page):\n",
    "    print(i)\n",
    "    page = requests.get(URL+str(i))\n",
    "    content = BeautifulSoup(page.content, 'html.parser')\n",
    "    results = content.find_all('li', class_='gem-c-document-list__item')\n",
    "    service_details = []\n",
    "    for result in results: \n",
    "        attribute_array = {\"service\":[],'attributes':{\"url\":[],\"attributes\":[]}}\n",
    "        title_html = result.find('a', class_='gem-c-document-list__item-title gem-c-document-list__item-link')\n",
    "        title_text = title_html.text.strip()\n",
    "        attribute_array['service'] = title_text\n",
    "        url = result.find('a')['href']\n",
    "        attribute_array['url'] = url\n",
    "        for attribute in attributes:\n",
    "            attribute_array['attributes'] = attribute.text.strip()\n",
    "            service_details.append(attribute_array)   \n",
    "print(i)\n",
    "i += 1"
   ],
   "cell_type": "code",
   "metadata": {
    "tags": []
   },
   "execution_count": null,
   "outputs": []
  }
 ]
}